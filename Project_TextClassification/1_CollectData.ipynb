{
 "cells": [
  {
   "attachments": {},
   "cell_type": "markdown",
   "metadata": {},
   "source": [
    "## 1. Import"
   ]
  },
  {
   "cell_type": "code",
   "execution_count": 1,
   "metadata": {},
   "outputs": [],
   "source": [
    "from selenium import webdriver\n",
    "from selenium.webdriver.common.keys import Keys\n",
    "from selenium.webdriver.chrome.service import Service\n",
    "from selenium.common.exceptions import NoSuchElementException, StaleElementReferenceException, ElementNotInteractableException\n",
    "from selenium.webdriver.common.by import By\n",
    "from bs4 import BeautifulSoup\n",
    "import time\n",
    "import threading\n",
    "import numpy as np"
   ]
  },
  {
   "attachments": {},
   "cell_type": "markdown",
   "metadata": {},
   "source": [
    "## 2. Function"
   ]
  },
  {
   "attachments": {},
   "cell_type": "markdown",
   "metadata": {},
   "source": [
    "### a. Get all of title from url"
   ]
  },
  {
   "cell_type": "code",
   "execution_count": 2,
   "metadata": {},
   "outputs": [],
   "source": [
    "def get_title_from_url(url, num):\n",
    "    ser = Service(\"D:/chromedriver.exe\")\n",
    "    driver = webdriver.Chrome(service = ser)\n",
    "    driver.get(url)\n",
    "    driver.fullscreen_window()\n",
    "    time.sleep(2)\n",
    "    titles = set()\n",
    "    while True:\n",
    "        try:\n",
    "            ## Click button \"See more\"\n",
    "            button = driver.find_element(By.CSS_SELECTOR, 'button.text.control__loadmore')\n",
    "            button.click()\n",
    "            time.sleep(1)\n",
    "            ## Collect title\n",
    "            soup = BeautifulSoup(driver.page_source, \"html.parser\")\n",
    "            articles = soup.find_all(\"article\", {\"class\" : \"story story-small\"})\n",
    "            for article in articles:\n",
    "                title = article.find(\"a\", {\"class\" : \"cms-link\"}).get(\"title\")\n",
    "                titles.add(title.rstrip())\n",
    "            if len(titles) > num:\n",
    "                break\n",
    "        except NoSuchElementException:\n",
    "            break\n",
    "    return titles"
   ]
  },
  {
   "attachments": {},
   "cell_type": "markdown",
   "metadata": {},
   "source": [
    "### b. Save to file"
   ]
  },
  {
   "cell_type": "code",
   "execution_count": 3,
   "metadata": {},
   "outputs": [],
   "source": [
    "def save_to_file(type, titles):\n",
    "    path = str(f\"./raw_data/{type}.txt\")\n",
    "    with open(path, \"w\", encoding=\"utf-8\") as f:\n",
    "        for title in titles:\n",
    "            f.write(title + \"\\n\")"
   ]
  },
  {
   "attachments": {},
   "cell_type": "markdown",
   "metadata": {},
   "source": [
    "### c. Thread"
   ]
  },
  {
   "cell_type": "code",
   "execution_count": 5,
   "metadata": {},
   "outputs": [],
   "source": [
    "def get_and_save_title(num, type):\n",
    "    url = f\"https://nhandan.vn/{type}/\"\n",
    "    titles = get_title_from_url(url, num)\n",
    "    save_to_file(type, titles)"
   ]
  },
  {
   "attachments": {},
   "cell_type": "markdown",
   "metadata": {},
   "source": [
    "## 3. Execute"
   ]
  },
  {
   "cell_type": "code",
   "execution_count": null,
   "metadata": {},
   "outputs": [],
   "source": [
    "types = [\"vanhoa\", \"phapluat\", \"thethao\", \"giaoduc\", \"chinhtri\", \"kinhte\", \"xahoi\"]\n",
    "num = 2000\n",
    "threads = []\n",
    "for type in types:\n",
    "    thread = threading.Thread(target=get_and_save_title, args=(num, type))\n",
    "    thread.start()\n",
    "    threads.append(thread)\n",
    "\n",
    "for thread in threads:\n",
    "    thread.join()"
   ]
  }
 ],
 "metadata": {
  "kernelspec": {
   "display_name": "Python 3",
   "language": "python",
   "name": "python3"
  },
  "language_info": {
   "codemirror_mode": {
    "name": "ipython",
    "version": 3
   },
   "file_extension": ".py",
   "mimetype": "text/x-python",
   "name": "python",
   "nbconvert_exporter": "python",
   "pygments_lexer": "ipython3",
   "version": "3.8.16"
  },
  "orig_nbformat": 4
 },
 "nbformat": 4,
 "nbformat_minor": 2
}
