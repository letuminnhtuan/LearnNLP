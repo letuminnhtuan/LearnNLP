{
 "cells": [
  {
   "attachments": {},
   "cell_type": "markdown",
   "metadata": {},
   "source": [
    "## 1. Preprocessing\n",
    "- Remove URLs, HTML tags\n",
    "- Standardizing\n",
    "- Handle irrelevant characters\n",
    "- Tokenization\n",
    "- Lowercasing\n",
    "- Remove stop words or rare words\n",
    "- Spelling Correction\n",
    "- Stemming and Lemmatization"
   ]
  },
  {
   "cell_type": "code",
   "execution_count": 2,
   "metadata": {},
   "outputs": [],
   "source": [
    "import re\n",
    "import string"
   ]
  },
  {
   "cell_type": "code",
   "execution_count": 3,
   "metadata": {},
   "outputs": [],
   "source": [
    "def preprocessing(line):\n",
    "    # Lowercasing\n",
    "    line = line.lower()\n",
    "    # Remove punctuation\n",
    "    translation_table = str.maketrans(\" \", \" \", string.punctuation)\n",
    "    line = line.translate(translation_table)\n",
    "    line = line.replace(\"“\", \" \")\n",
    "    line = line.replace(\"”\", \" \")\n",
    "    # Remove number\n",
    "    line = re.sub(r'\\d+', '', line)\n",
    "    # Remove blank\n",
    "    line = line.strip()\n",
    "    while line.find(\"  \") != -1:\n",
    "        line = line.replace(\"  \", \" \")\n",
    "    return line"
   ]
  },
  {
   "cell_type": "code",
   "execution_count": 4,
   "metadata": {},
   "outputs": [],
   "source": [
    "def write_file(type):\n",
    "    path_raw = f\"./raw_data/{type}.txt\"\n",
    "    with open(path_raw, \"r\", encoding=\"utf-8\") as f_raw:\n",
    "        lines = f_raw.readlines()\n",
    "\n",
    "    path_process = f\"./process_data/{type}.txt\"\n",
    "    with open(path_process, \"w\", encoding=\"utf-8\") as f_process:\n",
    "        for line in lines:\n",
    "            line = preprocessing(line)\n",
    "            if line != None and len(line) != 0:\n",
    "                f_process.write(line + '\\n')"
   ]
  },
  {
   "cell_type": "code",
   "execution_count": 5,
   "metadata": {},
   "outputs": [],
   "source": [
    "types = [\"vanhoa\", \"phapluat\", \"thethao\", \"giaoduc\", \"chinhtri\", \"kinhte\", \"xahoi\"]\n",
    "for type in types:\n",
    "    write_file(type)"
   ]
  },
  {
   "attachments": {},
   "cell_type": "markdown",
   "metadata": {},
   "source": [
    "#### => Result\n",
    "#### Before: Trao 250 suất học bổng chương trình \"Vì em hiếu học\" năm 2022 tại Sóc Trăng\n",
    "#### After: trao suất học bổng chương trình vì em hiếu học năm tại sóc trăng\n",
    "<hr>"
   ]
  },
  {
   "attachments": {},
   "cell_type": "markdown",
   "metadata": {},
   "source": [
    "## 2. EDA"
   ]
  },
  {
   "cell_type": "code",
   "execution_count": 6,
   "metadata": {},
   "outputs": [
    {
     "name": "stdout",
     "output_type": "stream",
     "text": [
      "4456\n"
     ]
    }
   ],
   "source": [
    "words = set()\n",
    "for type in types:\n",
    "    with open(f\"./process_data/{type}.txt\", \"r\", encoding=\"utf-8\") as f:\n",
    "        for line in f.readlines():\n",
    "            max_len = max(max_len, len(line))\n",
    "            line = line.rstrip(\"\\n\")\n",
    "            chars = line.split(\" \")\n",
    "            for char in chars:\n",
    "                words.add(char)\n",
    "print(len(words))"
   ]
  },
  {
   "attachments": {},
   "cell_type": "markdown",
   "metadata": {},
   "source": [
    "#### => Tổng số từ sử dụng trong dữ liệu là: 4456 từ"
   ]
  },
  {
   "cell_type": "code",
   "execution_count": 12,
   "metadata": {},
   "outputs": [
    {
     "name": "stdout",
     "output_type": "stream",
     "text": [
      "49\n"
     ]
    }
   ],
   "source": [
    "def cal_num_word(line):\n",
    "    num = 0\n",
    "    while line.find(\" \") != -1:\n",
    "        num += 1\n",
    "        line = line.replace(\" \", \"\", 1)\n",
    "    return num + 1\n",
    "\n",
    "max_len = 0\n",
    "for type in types:\n",
    "    with open(f\"./process_data/{type}.txt\", \"r\", encoding=\"utf-8\") as f:\n",
    "        for line in f.readlines():\n",
    "            line = line.rstrip(\"\\n\")\n",
    "            if max_len < cal_num_word(line):\n",
    "                max_len = cal_num_word(line)\n",
    "\n",
    "print(max_len)"
   ]
  },
  {
   "attachments": {},
   "cell_type": "markdown",
   "metadata": {},
   "source": [
    "#### => Câu dài nhất có số từ là: 49 từ"
   ]
  }
 ],
 "metadata": {
  "kernelspec": {
   "display_name": "Python 3",
   "language": "python",
   "name": "python3"
  },
  "language_info": {
   "codemirror_mode": {
    "name": "ipython",
    "version": 3
   },
   "file_extension": ".py",
   "mimetype": "text/x-python",
   "name": "python",
   "nbconvert_exporter": "python",
   "pygments_lexer": "ipython3",
   "version": "3.8.16"
  },
  "orig_nbformat": 4
 },
 "nbformat": 4,
 "nbformat_minor": 2
}
